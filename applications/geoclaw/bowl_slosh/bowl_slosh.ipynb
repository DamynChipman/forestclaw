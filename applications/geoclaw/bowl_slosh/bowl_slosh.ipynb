{
 "cells": [
  {
   "cell_type": "markdown",
   "metadata": {},
   "source": [
    "# Bowl slosh\n",
    "\n",
    "---\n",
    "\n",
    "Exact solution to shallow water wave equations in a bowl.  Cross-section plot is used to compare solution to exact solution.\n",
    "\n",
    "---"
   ]
  },
  {
   "cell_type": "markdown",
   "metadata": {},
   "source": [
    "Run code in **serial mode** (will work, even if code is compiled with MPI)"
   ]
  },
  {
   "cell_type": "code",
   "execution_count": null,
   "metadata": {
    "collapsed": true
   },
   "outputs": [],
   "source": [
    "!slosh  "
   ]
  },
  {
   "cell_type": "markdown",
   "metadata": {},
   "source": [
    "---\n",
    "Or, run code in **parallel mode** (command may need to be customized, depending your on MPI installation.)"
   ]
  },
  {
   "cell_type": "code",
   "execution_count": null,
   "metadata": {
    "collapsed": true
   },
   "outputs": [],
   "source": [
    "# !mpirun -n 4 slosh"
   ]
  },
  {
   "cell_type": "markdown",
   "metadata": {},
   "source": [
    "---\n",
    "Create PNG files for web-browser viewing, or animation."
   ]
  },
  {
   "cell_type": "code",
   "execution_count": null,
   "metadata": {
    "collapsed": false
   },
   "outputs": [
    {
     "name": "stdout",
     "output_type": "stream",
     "text": [
      "Executed setplot successfully\n",
      "Will plot 17 frames numbered: [0, 1, 2, 3, 4, 5, 6, 7, 8, 9, 10, 11, 12, 13, 14, 15, 16]\n",
      "Will make 3 figure(s) for each frame, numbered:  [0, 1, 2]\n",
      "\n",
      "-----------------------------------\n",
      "\n",
      "\n",
      "Creating html pages for figures...\n",
      "\n",
      "Directory '/Users/calhoun/projects/ForestClaw/code/forestclaw/applications/geoclaw/bowl_slosh/_plots' \n",
      "    already exists, files may be overwritten \n",
      "Now making png files for all figures...\n",
      "    Reading  Frame 0 at t = 0  from outdir = /Users/calhoun/projects/ForestClaw/code/forestclaw/applications/geoclaw/bowl_slosh\n",
      "Frame 0 at time t = 0.0\n",
      "    Reading  Frame 1 at t = 0.280356  from outdir = /Users/calhoun/projects/ForestClaw/code/forestclaw/applications/geoclaw/bowl_slosh\n"
     ]
    }
   ],
   "source": [
    "%run setplot.py"
   ]
  },
  {
   "cell_type": "markdown",
   "metadata": {},
   "source": [
    "---\n",
    "View PNG files in browser, using URL above, or create an animation of all PNG files, using code below. "
   ]
  },
  {
   "cell_type": "code",
   "execution_count": null,
   "metadata": {
    "collapsed": false,
    "scrolled": false
   },
   "outputs": [],
   "source": [
    "%pylab inline"
   ]
  },
  {
   "cell_type": "code",
   "execution_count": null,
   "metadata": {
    "collapsed": false
   },
   "outputs": [],
   "source": [
    "import glob\n",
    "from matplotlib import image\n",
    "from clawpack.visclaw.JSAnimation import IPython_display\n",
    "from matplotlib import animation\n",
    "\n",
    "def init():\n",
    "    im.set_data(image.imread(filenames[0]))\n",
    "    return im,\n",
    "\n",
    "def animate(i):\n",
    "    image_i=image.imread(filenames[i])\n",
    "    im.set_data(image_i)\n",
    "    return im,"
   ]
  },
  {
   "cell_type": "markdown",
   "metadata": {},
   "source": [
    "---\n",
    "Plot figure 0, showing the entire solution.  To see detailed plotting parameters, see file plot_bowl.py."
   ]
  },
  {
   "cell_type": "code",
   "execution_count": null,
   "metadata": {
    "collapsed": false
   },
   "outputs": [],
   "source": [
    "figno = 0\n",
    "\n",
    "fname = '_plots/*fig' + str(figno) + '.png'\n",
    "filenames = sorted(glob.glob(fname))\n",
    "\n",
    "fig = plt.figure()\n",
    "im = plt.imshow(image.imread(filenames[0]))\n",
    "\n",
    "animation.FuncAnimation(fig, animate, init_func=init,\n",
    "                              frames=len(filenames), interval=500, blit=True)"
   ]
  },
  {
   "cell_type": "markdown",
   "metadata": {},
   "source": [
    "---\n",
    "Then plot figures 10 and 11 to compare the solution in the two refined regions."
   ]
  },
  {
   "cell_type": "code",
   "execution_count": null,
   "metadata": {
    "collapsed": false
   },
   "outputs": [],
   "source": [
    "figno = 1\n",
    "\n",
    "fname = '_plots/*fig' + str(figno) + '.png'\n",
    "filenames = sorted(glob.glob(fname))\n",
    "\n",
    "fig = plt.figure()\n",
    "im = plt.imshow(image.imread(filenames[0]))\n",
    "\n",
    "animation.FuncAnimation(fig, animate, init_func=init,\n",
    "                              frames=len(filenames), interval=500, blit=True)"
   ]
  },
  {
   "cell_type": "markdown",
   "metadata": {
    "collapsed": true
   },
   "source": [
    "---"
   ]
  }
 ],
 "metadata": {
  "kernelspec": {
   "display_name": "Python 2",
   "language": "python",
   "name": "python2"
  },
  "language_info": {
   "codemirror_mode": {
    "name": "ipython",
    "version": 2
   },
   "file_extension": ".py",
   "mimetype": "text/x-python",
   "name": "python",
   "nbconvert_exporter": "python",
   "pygments_lexer": "ipython2",
   "version": "2.7.11"
  }
 },
 "nbformat": 4,
 "nbformat_minor": 0
}
