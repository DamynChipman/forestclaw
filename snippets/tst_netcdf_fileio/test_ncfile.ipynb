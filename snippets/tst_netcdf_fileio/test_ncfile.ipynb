{
 "cells": [
  {
   "cell_type": "markdown",
   "metadata": {},
   "source": [
    "Following code can be used to test whether the created netcdf file is valid."
   ]
  },
  {
   "cell_type": "code",
   "execution_count": 1,
   "metadata": {
    "collapsed": false
   },
   "outputs": [],
   "source": [
    "import numpy as np\n",
    "from clawpack import pyclaw\n",
    "from clawpack.pyclaw.fileio import netcdf\n",
    "\n",
    "%matplotlib inline\n",
    "import matplotlib\n",
    "import matplotlib.pyplot as plt"
   ]
  },
  {
   "cell_type": "code",
   "execution_count": 2,
   "metadata": {
    "collapsed": false
   },
   "outputs": [],
   "source": [
    "# Create a solution object\n",
    "claw = pyclaw.Controller()\n",
    "claw.solution = pyclaw.Solution()"
   ]
  },
  {
   "cell_type": "code",
   "execution_count": 3,
   "metadata": {
    "collapsed": false
   },
   "outputs": [
    {
     "name": "stdout",
     "output_type": "stream",
     "text": [
      "<type 'netCDF4._netCDF4.Group'>\n",
      "group /patch1:\n",
      "    t: 0.0\n",
      "    num_eqn: 1\n",
      "    num_aux: 0\n",
      "    patch_index: 1\n",
      "    level: 1\n",
      "    dim_names: x\n",
      "    x.num_cells: 100\n",
      "    x.lower: 0.0\n",
      "    x.delta: 0.01\n",
      "    x.upper: 1.0\n",
      "    dimensions(sizes): x(100), num_eqn(1)\n",
      "    variables(dimensions): float64 \u001b[4mq\u001b[0m(x,num_eqn)\n",
      "    groups: \n",
      "\n"
     ]
    }
   ],
   "source": [
    "# Use pyclaw.fileio.netcdf.read function to read in data from claw0000.nc file\n",
    "netcdf.read(claw.solution,0,path='./',file_prefix='claw')"
   ]
  },
  {
   "cell_type": "code",
   "execution_count": 6,
   "metadata": {
    "collapsed": false
   },
   "outputs": [
    {
     "data": {
      "text/plain": [
       "[<matplotlib.lines.Line2D at 0x109f64a50>]"
      ]
     },
     "execution_count": 6,
     "metadata": {},
     "output_type": "execute_result"
    },
    {
     "data": {
      "image/png": "[encoded data removed]",
      "text/plain": [
       "<matplotlib.figure.Figure at 0x109d48750>"
      ]
     },
     "metadata": {},
     "output_type": "display_data"
    }
   ],
   "source": [
    "# Plot the solution\n",
    "plt.plot(claw.solution.states[0].q)"
   ]
  },
  {
   "cell_type": "code",
   "execution_count": null,
   "metadata": {
    "collapsed": true
   },
   "outputs": [],
   "source": []
  }
 ],
 "metadata": {
  "kernelspec": {
   "display_name": "Python 2",
   "language": "python",
   "name": "python2"
  },
  "language_info": {
   "codemirror_mode": {
    "name": "ipython",
    "version": 2
   },
   "file_extension": ".py",
   "mimetype": "text/x-python",
   "name": "python",
   "nbconvert_exporter": "python",
   "pygments_lexer": "ipython2",
   "version": "2.7.12"
  }
 },
 "nbformat": 4,
 "nbformat_minor": 0
}
